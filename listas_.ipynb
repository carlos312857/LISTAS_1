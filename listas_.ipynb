{
  "nbformat": 4,
  "nbformat_minor": 0,
  "metadata": {
    "colab": {
      "provenance": [],
      "authorship_tag": "ABX9TyNhwl+n2BUmlzS56CobhrwU",
      "include_colab_link": true
    },
    "kernelspec": {
      "name": "python3",
      "display_name": "Python 3"
    },
    "language_info": {
      "name": "python"
    }
  },
  "cells": [
    {
      "cell_type": "markdown",
      "metadata": {
        "id": "view-in-github",
        "colab_type": "text"
      },
      "source": [
        "<a href=\"https://colab.research.google.com/github/carlos312857/LISTAS_1/blob/main/listas_.ipynb\" target=\"_parent\"><img src=\"https://colab.research.google.com/assets/colab-badge.svg\" alt=\"Open In Colab\"/></a>"
      ]
    },
    {
      "cell_type": "markdown",
      "source": [
        "# listas\n",
        "\n",
        "- una lista hace referencia a una coleccion de datos que pueden sser numeros, cadenas o algun otro tipo\n",
        "- son colecciones ordenadas de datos , lo que importa el orden en el cual se encuentrar sus elementos.\n",
        "- el primer elemento ocupa la posicion 0, el segundo la 1 , y asi sucesivamente.\n",
        "- son mutables : una ves creada la lista , esta puede modificarce , se le pueden agregar o quitar elementos\n",
        "- ene python estan representada por el tipo ***list*** y para definirlas se utilisa la sigurente sintaxis:\n",
        "```nombre lista =[valor1,valor2,...,valorn]```\n",
        "\n",
        "-los elementos pueden ser de cualquier tipo , incluso pueden aver tipos diferentes en una misma lista\n",
        "- tambien es posible crear usando el constructor ```list```\n",
        "\n"
      ],
      "metadata": {
        "id": "WADuPuIYC22_"
      }
    },
    {
      "cell_type": "code",
      "source": [
        "# Ejemplo 1\n",
        "\n",
        "# -----------------------------\n",
        "# usando los [] y dando valores para inicializar las listas\n",
        "#------------------------------\n",
        "\n",
        "dias_laborables = ['lunes','martes','miercoles','jueves','viernes']\n",
        "print(dias_laborables)\n",
        "\n",
        "colores_prmarios = ['rojo','amarillo','azul']\n",
        "print(colores_prmarios)\n",
        "\n",
        "precios = [205.30, 107.18, 25, 450, 310.09,178.23, 348]\n",
        "print (precios)\n",
        "\n",
        "# -----------------------------\n",
        "# usando el constructor list()\n",
        "#------------------------------\n",
        "lista_vacia = list()\n",
        "lista_3 = list (range(0,30,2))\n",
        "print(lista_3)\n",
        "lista_4 = list(range(29,0,-2))\n",
        "print(lista_4)\n",
        "lista_5 = list('nestor jesus')\n",
        "print(lista_5)\n",
        "frase = 'Nestor Jesus Paez Sarmiento'\n",
        "lista_6 = frase.split()\n",
        "print(lista_6)\n"
      ],
      "metadata": {
        "id": "PbOIa9PXMguc"
      },
      "execution_count": null,
      "outputs": []
    },
    {
      "cell_type": "markdown",
      "source": [
        "## Operaciones\n",
        "\n",
        "### operador +\n",
        "\n",
        "- concatenar o pegar los elementos de una lista al final de otra\n",
        "\n",
        "### operador *\n",
        "\n",
        "- repetir la secuensia de elementos de la lista tantas veces como la indique el valor que acompaña.\n"
      ],
      "metadata": {
        "id": "Aa_6jCPiQwWN"
      }
    },
    {
      "cell_type": "code",
      "source": [
        "dias_laborables = ['lunes','martes','miercoles','jueves','viernes']\n",
        "\n",
        "colores_prmarios = ['rojo','amarillo','azul']\n",
        "\n",
        "\n",
        "precios = [205.30, 107.18, 25, 450, 310.09,178.23, 348]\n",
        "\n",
        "# acceso a los elementos de una lista\n",
        "\n",
        "print(dias_laborables[0])\n",
        "print (dias_laborables[-1])\n",
        "print(dias_laborables[-3])\n",
        "\n",
        "# operador +\n",
        "\n",
        "fin_semana = ['sabado','domingo']\n",
        "semana = dias_laborables + fin_semana\n",
        "print(semana)\n",
        "\n",
        "# operador *\n",
        "colores_repetidos = colores_prmarios * 3\n",
        "print(colores_repetidos)\n"
      ],
      "metadata": {
        "id": "QEgLdaSnRk68"
      },
      "execution_count": null,
      "outputs": []
    },
    {
      "cell_type": "markdown",
      "source": [
        "## Funciones asociadas a las listas"
      ],
      "metadata": {
        "id": "bjC29x7-UIZn"
      }
    },
    {
      "cell_type": "code",
      "source": [
        "dias_laborables = ['lunes','martes','miercoles','jueves','viernes']\n",
        "\n",
        "colores_prmarios = ['rojo','amarillo','azul']\n",
        "\n",
        "precios = [205.30, 107.18, 25, 450, 310.09,178.23, 348]\n",
        "\n",
        "precios = [205.30, 107.18, 25, 450, 310.09,178.23, 348]\n",
        "\n",
        "colores_repetidos = colores_prmarios * 3\n",
        "\n",
        "\n",
        "# append(): agrega un elemento al final de la lista\n",
        "dias_laborables.append (\"sabado\")\n",
        "print(dias_laborables)\n",
        "\n",
        "#len(): total de elementos de la lista\n",
        "print('total de precios =', len (precios))\n",
        "\n",
        "# countt(): cuenta el numero de veces que un elemento en la lista\n",
        "print(f'el lunes aparece {dias_laborables.count(\"lunes\")} veces')\n",
        "\n",
        "# index(): agrega en la posicion indicasa por el indice el nuevo valor, desplazado los demas elementos hacia la derecha. si el indice es mayor al tamaño de la lista, lao agraga al final\n",
        "colores_primarios.insert(2,\"verde\")\n",
        "print(colores_primarios)\n",
        "\n",
        "# remove(): quita el elmento de la lista. si el elemento no esta lanza una excepcion.\n",
        "dias_laborables.remove(\"sabado\")\n",
        "print(dias_laborables)\n",
        "\n",
        "# sort(): ordena la lista de menor a mayor\n",
        "precios.sort()\n",
        "print(precios)\n",
        "precios.sort(reverse=True)\n",
        "print(precios)\n",
        "\n",
        "# reverse():\n",
        "\n",
        "# pop():\n",
        "\n",
        "# clear()\n",
        "\n",
        "# del"
      ],
      "metadata": {
        "id": "FNLlR4s9UVUO"
      },
      "execution_count": null,
      "outputs": []
    },
    {
      "cell_type": "markdown",
      "source": [
        "## Particion o divicion de listas (slicing o rebanadas)\n",
        "\n",
        "- se pueden generar sup listas apartir de una lita por medio de la particion ( divcion ) o slicing\n",
        "- para obtaner una sublista se usa la sintaxis: ```sublista = lista [inicio:fin:n]```\n"
      ],
      "metadata": {
        "id": "ycTmOIXrf4EF"
      }
    },
    {
      "cell_type": "code",
      "source": [
        "# se cres una lista de numeros enteros\n",
        "lista_1 = [1,2,3,4,5,6]\n",
        "\n",
        "# sublista con los elementos de las pocisiones 0 a la 2 inclusive\n",
        "sublista_1 = lista_1[0:3]\n",
        "print(sublista_1)\n",
        "\n",
        "# sublista con los elementos de las pocisiones 1 a la 3 inclusive\n",
        "sublista_2 = lista_1[0:3]\n",
        "print(sublista_2)\n",
        "\n",
        "# sublista con los elemento 0 a las 3 inclusive\n",
        "sublista_2 = lista_1[:4]\n",
        "print(sublista_2)\n",
        "\n",
        "# sublista con los elementos de la posicion 2 hasta el final\n",
        "sublista_3 = lista_1[3:]\n",
        "print(sublista_3)\n",
        "\n",
        "# sublista con los elementos desde el inicio hasta el final, con saltos de a 2\n",
        "sublista_4 = lista_1[::2]\n",
        "print(sublista_4)\n"
      ],
      "metadata": {
        "colab": {
          "base_uri": "https://localhost:8080/"
        },
        "id": "FfDTWw84g6Vd",
        "outputId": "e68ad81e-81a6-4536-e6ec-b07ea5d5bbd2"
      },
      "execution_count": 23,
      "outputs": [
        {
          "output_type": "stream",
          "name": "stdout",
          "text": [
            "[1, 2, 3]\n",
            "[1, 2, 3]\n",
            "[1, 2, 3, 4]\n",
            "[4, 5, 6]\n",
            "[1, 3, 5]\n"
          ]
        }
      ]
    }
  ]
}